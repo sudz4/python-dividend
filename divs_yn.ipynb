{
 "cells": [
  {
   "attachments": {},
   "cell_type": "markdown",
   "metadata": {},
   "source": [
    "| Dividends | Dividend returns analysis|\n",
    "| ----------- | ----------- |"
   ]
  },
  {
   "cell_type": "code",
   "execution_count": 20,
   "metadata": {},
   "outputs": [],
   "source": [
    "import pandas as pd\n",
    "import numpy as np\n",
    "import openpyxl\n",
    "import requests\n",
    "\n",
    "import pyEX as p"
   ]
  },
  {
   "cell_type": "code",
   "execution_count": 21,
   "metadata": {},
   "outputs": [],
   "source": [
    "# Import iex cloud api token\n",
    "from config import iex_api_token"
   ]
  },
  {
   "cell_type": "code",
   "execution_count": 22,
   "metadata": {},
   "outputs": [
    {
     "data": {
      "text/plain": [
       "5449"
      ]
     },
     "execution_count": 22,
     "metadata": {},
     "output_type": "execute_result"
    }
   ],
   "source": [
    "# Load all stock data\n",
    "all_stock_df = pd.read_excel('stock_list_all.xlsx')\n",
    "\n",
    "len(all_stock_df)"
   ]
  },
  {
   "cell_type": "code",
   "execution_count": 23,
   "metadata": {},
   "outputs": [],
   "source": [
    "# Connect to IEX cloud api endpoint\n",
    "c = p.Client(api_token=iex_api_token, version='stable')"
   ]
  },
  {
   "cell_type": "code",
   "execution_count": 24,
   "metadata": {},
   "outputs": [
    {
     "data": {
      "text/html": [
       "<div>\n",
       "<style scoped>\n",
       "    .dataframe tbody tr th:only-of-type {\n",
       "        vertical-align: middle;\n",
       "    }\n",
       "\n",
       "    .dataframe tbody tr th {\n",
       "        vertical-align: top;\n",
       "    }\n",
       "\n",
       "    .dataframe thead th {\n",
       "        text-align: right;\n",
       "    }\n",
       "</style>\n",
       "<table border=\"1\" class=\"dataframe\">\n",
       "  <thead>\n",
       "    <tr style=\"text-align: right;\">\n",
       "      <th></th>\n",
       "      <th>symbol</th>\n",
       "      <th>company name</th>\n",
       "    </tr>\n",
       "  </thead>\n",
       "  <tbody>\n",
       "    <tr>\n",
       "      <th>0</th>\n",
       "      <td>A</td>\n",
       "      <td>Agilent Technologies Inc</td>\n",
       "    </tr>\n",
       "    <tr>\n",
       "      <th>1</th>\n",
       "      <td>AA</td>\n",
       "      <td>Alcoa Corp</td>\n",
       "    </tr>\n",
       "    <tr>\n",
       "      <th>2</th>\n",
       "      <td>AACG</td>\n",
       "      <td>ATA Creativity Global(ADR)</td>\n",
       "    </tr>\n",
       "  </tbody>\n",
       "</table>\n",
       "</div>"
      ],
      "text/plain": [
       "  symbol                company name\n",
       "0      A    Agilent Technologies Inc\n",
       "1     AA                  Alcoa Corp\n",
       "2   AACG  ATA Creativity Global(ADR)"
      ]
     },
     "execution_count": 24,
     "metadata": {},
     "output_type": "execute_result"
    }
   ],
   "source": [
    "# Chang the column labels to lowercase\n",
    "all_stock_df = all_stock_df.rename(columns={col: col.lower() for col in all_stock_df.columns})\n",
    "\n",
    "# Filter on necessary columns\n",
    "all_stock_df = all_stock_df.iloc[:,:2]\n",
    "\n",
    "all_stock_df.head(3)"
   ]
  },
  {
   "cell_type": "code",
   "execution_count": 25,
   "metadata": {},
   "outputs": [
    {
     "data": {
      "text/html": [
       "<div>\n",
       "<style scoped>\n",
       "    .dataframe tbody tr th:only-of-type {\n",
       "        vertical-align: middle;\n",
       "    }\n",
       "\n",
       "    .dataframe tbody tr th {\n",
       "        vertical-align: top;\n",
       "    }\n",
       "\n",
       "    .dataframe thead th {\n",
       "        text-align: right;\n",
       "    }\n",
       "</style>\n",
       "<table border=\"1\" class=\"dataframe\">\n",
       "  <thead>\n",
       "    <tr style=\"text-align: right;\">\n",
       "      <th></th>\n",
       "      <th>symbol</th>\n",
       "      <th>company name</th>\n",
       "    </tr>\n",
       "  </thead>\n",
       "  <tbody>\n",
       "    <tr>\n",
       "      <th>681</th>\n",
       "      <td>BLNK</td>\n",
       "      <td>Blink Charging Co</td>\n",
       "    </tr>\n",
       "    <tr>\n",
       "      <th>4694</th>\n",
       "      <td>SUPN</td>\n",
       "      <td>Supernus Pharmaceuticals Inc</td>\n",
       "    </tr>\n",
       "    <tr>\n",
       "      <th>3988</th>\n",
       "      <td>PRE-H</td>\n",
       "      <td>PartnerRe Ltd</td>\n",
       "    </tr>\n",
       "    <tr>\n",
       "      <th>2697</th>\n",
       "      <td>JOE</td>\n",
       "      <td>St. Joe Co</td>\n",
       "    </tr>\n",
       "    <tr>\n",
       "      <th>4094</th>\n",
       "      <td>QK</td>\n",
       "      <td>Q&amp;K International Group Ltd - ADR</td>\n",
       "    </tr>\n",
       "  </tbody>\n",
       "</table>\n",
       "</div>"
      ],
      "text/plain": [
       "     symbol                       company name\n",
       "681    BLNK                  Blink Charging Co\n",
       "4694   SUPN       Supernus Pharmaceuticals Inc\n",
       "3988  PRE-H                      PartnerRe Ltd\n",
       "2697    JOE                         St. Joe Co\n",
       "4094     QK  Q&K International Group Ltd - ADR"
      ]
     },
     "execution_count": 25,
     "metadata": {},
     "output_type": "execute_result"
    }
   ],
   "source": [
    "# Create a sample stock list, select at random\n",
    "subset_size = 50\n",
    "subset_indices = np.random.choice(all_stock_df.index, size=subset_size, replace=False)\n",
    "subset_df = all_stock_df.loc[subset_indices]\n",
    "\n",
    "subset_df.head(5)"
   ]
  },
  {
   "cell_type": "code",
   "execution_count": 26,
   "metadata": {},
   "outputs": [
    {
     "data": {
      "text/html": [
       "<div>\n",
       "<style scoped>\n",
       "    .dataframe tbody tr th:only-of-type {\n",
       "        vertical-align: middle;\n",
       "    }\n",
       "\n",
       "    .dataframe tbody tr th {\n",
       "        vertical-align: top;\n",
       "    }\n",
       "\n",
       "    .dataframe thead th {\n",
       "        text-align: right;\n",
       "    }\n",
       "</style>\n",
       "<table border=\"1\" class=\"dataframe\">\n",
       "  <thead>\n",
       "    <tr style=\"text-align: right;\">\n",
       "      <th></th>\n",
       "      <th>symbol</th>\n",
       "      <th>company name</th>\n",
       "    </tr>\n",
       "  </thead>\n",
       "  <tbody>\n",
       "    <tr>\n",
       "      <th>220</th>\n",
       "      <td>ALRS</td>\n",
       "      <td>Alerus Financial Corp</td>\n",
       "    </tr>\n",
       "    <tr>\n",
       "      <th>256</th>\n",
       "      <td>AMKR</td>\n",
       "      <td>Amkor Technology, Inc.</td>\n",
       "    </tr>\n",
       "    <tr>\n",
       "      <th>296</th>\n",
       "      <td>ANH-C</td>\n",
       "      <td>Anworth Mortgage Asset Corp</td>\n",
       "    </tr>\n",
       "    <tr>\n",
       "      <th>458</th>\n",
       "      <td>AUTO</td>\n",
       "      <td>Autoweb Inc</td>\n",
       "    </tr>\n",
       "    <tr>\n",
       "      <th>681</th>\n",
       "      <td>BLNK</td>\n",
       "      <td>Blink Charging Co</td>\n",
       "    </tr>\n",
       "  </tbody>\n",
       "</table>\n",
       "</div>"
      ],
      "text/plain": [
       "    symbol                 company name\n",
       "220   ALRS        Alerus Financial Corp\n",
       "256   AMKR       Amkor Technology, Inc.\n",
       "296  ANH-C  Anworth Mortgage Asset Corp\n",
       "458   AUTO                  Autoweb Inc\n",
       "681   BLNK            Blink Charging Co"
      ]
     },
     "execution_count": 26,
     "metadata": {},
     "output_type": "execute_result"
    }
   ],
   "source": [
    "# Sort data frame on the symbol column\n",
    "subset_df = subset_df.sort_values('symbol')\n",
    "\n",
    "subset_df.head(5)"
   ]
  },
  {
   "cell_type": "code",
   "execution_count": null,
   "metadata": {},
   "outputs": [],
   "source": [
    "# Reset index AND drop the old index values\n",
    "subset_df.reset_index(drop=True, inplace=True)\n",
    "\n",
    "subset_df"
   ]
  },
  {
   "cell_type": "code",
   "execution_count": null,
   "metadata": {},
   "outputs": [],
   "source": [
    "stock_ticker_list = subset_df['symbol'].values.tolist()\n",
    "\n",
    "stock_ticker_list"
   ]
  },
  {
   "cell_type": "code",
   "execution_count": 29,
   "metadata": {},
   "outputs": [
    {
     "name": "stdout",
     "output_type": "stream",
     "text": [
      "AAPL is NOT in the list\n"
     ]
    }
   ],
   "source": [
    "\"\"\"\n",
    "Create a data frame with one stock you know has dividends\n",
    "\n",
    "AAPL is the testing ticker\n",
    "\"\"\"\n",
    "# First search if AAPL is in the random selected list\n",
    "apple_ticker = 'AAPL'\n",
    "\n",
    "# If statement looking for AAPL\n",
    "if apple_ticker in stock_ticker_list:\n",
    "    print('AAPL is IN the list')\n",
    "else:\n",
    "    print('AAPL is NOT in the list')"
   ]
  },
  {
   "cell_type": "code",
   "execution_count": null,
   "metadata": {},
   "outputs": [],
   "source": [
    "# Test the API connection for the \"Financials\" endpoint\n",
    "# IMPORTANT - create a new data frame\n",
    "# This is the data frame that you will append the data to\n",
    "# Make sure the columns are in order later\n",
    "\n"
   ]
  },
  {
   "attachments": {},
   "cell_type": "markdown",
   "metadata": {},
   "source": [
    "| END OF PROGRAM |\n",
    "| ----------- |\n",
    "| Notes for future DEV, and reference code below |"
   ]
  },
  {
   "cell_type": "code",
   "execution_count": null,
   "metadata": {},
   "outputs": [],
   "source": []
  },
  {
   "cell_type": "code",
   "execution_count": 30,
   "metadata": {},
   "outputs": [],
   "source": [
    "# for i in stock_ticker_list:\n",
    "#     staging_df = c.financialsDF(symbol=i)\n",
    "#     div_df = "
   ]
  },
  {
   "cell_type": "code",
   "execution_count": null,
   "metadata": {},
   "outputs": [],
   "source": []
  }
 ],
 "metadata": {
  "kernelspec": {
   "display_name": "DIVIDEND_venv",
   "language": "python",
   "name": "python3"
  },
  "language_info": {
   "codemirror_mode": {
    "name": "ipython",
    "version": 3
   },
   "file_extension": ".py",
   "mimetype": "text/x-python",
   "name": "python",
   "nbconvert_exporter": "python",
   "pygments_lexer": "ipython3",
   "version": "3.11.1"
  },
  "orig_nbformat": 4,
  "vscode": {
   "interpreter": {
    "hash": "2b048bee2e71cd8f5fa3336546816f979e50f5b3a55cecf4a5e984f4d71d89bb"
   }
  }
 },
 "nbformat": 4,
 "nbformat_minor": 2
}
